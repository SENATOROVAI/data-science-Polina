{
 "cells": [
  {
   "cell_type": "markdown",
   "metadata": {},
   "source": [
    "https://codeforces.com/problemset/problem/4/A"
   ]
  },
  {
   "cell_type": "code",
   "execution_count": null,
   "metadata": {
    "vscode": {
     "languageId": "plaintext"
    }
   },
   "outputs": [],
   "source": [
    "print('YNEOS'[5%~int(input())%2::2])\n"
   ]
  },
  {
   "cell_type": "code",
   "execution_count": null,
   "metadata": {
    "vscode": {
     "languageId": "plaintext"
    }
   },
   "outputs": [],
   "source": [
    "w = int(input())\n",
    "if w % 2 == 0 and w > 2:\n",
    "    print (\"YES\")\n",
    "else: \n",
    "    print (\"NO\") "
   ]
  },
  {
   "cell_type": "code",
   "execution_count": null,
   "metadata": {
    "vscode": {
     "languageId": "plaintext"
    }
   },
   "outputs": [],
   "source": [
    "w = int(input());print(\"YES\" if (w % 2 == 0 and w > 2)  else'NO')\n",
    "\n",
    "1. `print('YNEOS'[5%~int(input())%2::2])`\n",
    "\n",
    "Эта строка является вызовом функции `print` с аргументом, который является выражением.\n",
    "\n",
    "2. `int(input())`\n",
    "\n",
    "`input()` читает строку, которая вводится пользователем во время выполнения программы, и `int()` преобразует эту строку в целое число.\n",
    "\n",
    "3. `~int(input())`\n",
    "\n",
    "`~` представляет оператор побитового инверса, который инвертирует биты в числе. В данном случае, это применяется к значению из предыдущего шага.\n",
    "\n",
    "4. `5%~int(input())`\n",
    "\n",
    "`%` является оператором остатка от деления. В данном случае, число 5 делится на результат из предыдущего шага (инвертированное число) и возвращается остаток от этого деления.\n",
    "\n",
    "5. `'YNEOS'[5%~int(input())%2::2]`\n",
    "\n",
    "`'YNEOS'` - это строка, в которой каждому символу соответствует некоторый индекс. В данном случае символы `'Y'`, `'N'`, `'E'`, `'O'` и `'S'` соответствуют индексам от 0 до 4.\n",
    "\n",
    "`[5%~int(input())%2::2]` - это синтаксис среза строк в Python. Он позволяет выбрать определенную часть строки. В данном случае, он выбирает элементы строки, начиная с индекса, который является результатом вычисления `5%~int(input())%2`, и выбирает каждый второй элемент.\n",
    "\n",
    "6. `print('YNEOS'[5%~int(input())%2::2])`\n",
    "\n",
    "Наконец, выражение, которое было указано в вызове `print`, будет выведено на экран."
   ]
  },
  {
   "cell_type": "code",
   "execution_count": null,
   "metadata": {
    "vscode": {
     "languageId": "plaintext"
    }
   },
   "outputs": [],
   "source": [
    "ПСЕВДОКОД \n",
    "\n",
    "переменная = функция приёма данных\n",
    "\n",
    "если перменная делится на 2 по модулю \n",
    "то это yes \n",
    "\n",
    "иначе нет \n"
   ]
  },
  {
   "cell_type": "code",
   "execution_count": null,
   "metadata": {
    "vscode": {
     "languageId": "plaintext"
    }
   },
   "outputs": [],
   "source": [
    "w = int(input())\n",
    "if w % 2 == 0 and w > 2:\n",
    "    print (\"YES\")\n",
    "else: \n",
    "    print (\"NO\") \n",
    "\n",
    "    "
   ]
  }
 ],
 "metadata": {
  "language_info": {
   "name": "python"
  }
 },
 "nbformat": 4,
 "nbformat_minor": 2
}
