{
 "cells": [
  {
   "cell_type": "markdown",
   "metadata": {},
   "source": [
    ".gitignore - это файл, к-й отвечает за игнорируемые файлы для гита\n",
    "добавляем название файла или папок, к-е не хотим пушить в гит"
   ]
  }
 ],
 "metadata": {
  "language_info": {
   "name": "python"
  }
 },
 "nbformat": 4,
 "nbformat_minor": 2
}
